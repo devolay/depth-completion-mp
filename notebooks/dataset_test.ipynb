{
 "cells": [
  {
   "cell_type": "code",
   "execution_count": null,
   "metadata": {},
   "outputs": [],
   "source": [
    "from src.data.dataset import KittiDataset\n",
    "from matplotlib import pyplot as plt\n",
    "\n",
    "dataset = KittiDataset()"
   ]
  },
  {
   "cell_type": "code",
   "execution_count": null,
   "metadata": {},
   "outputs": [],
   "source": [
    "rgb, sparse, gt, K = dataset[0]"
   ]
  },
  {
   "cell_type": "code",
   "execution_count": null,
   "metadata": {},
   "outputs": [],
   "source": [
    "def visualize_sample(sample: tuple):\n",
    "    fig, (ax1, ax2, ax3) = plt.subplots(3, figsize=(15, 15))\n",
    "\n",
    "    ax1.set_title(\"RGB\")\n",
    "    ax1.imshow(sample[0], interpolation='nearest')\n",
    "\n",
    "    ax2.set_title(\"Sparse\")\n",
    "    ax2.imshow(sample[1], interpolation='nearest', label=\"Sparse image\")\n",
    "\n",
    "    ax3.set_title(\"Groundtruth\")\n",
    "    ax3.imshow(sample[2],interpolation='nearest')\n",
    "\n",
    "    plt.show()"
   ]
  },
  {
   "cell_type": "code",
   "execution_count": null,
   "metadata": {},
   "outputs": [],
   "source": [
    "visualize_sample(dataset[999])"
   ]
  }
 ],
 "metadata": {
  "kernelspec": {
   "display_name": "depth-completion-mp",
   "language": "python",
   "name": "python3"
  },
  "language_info": {
   "codemirror_mode": {
    "name": "ipython",
    "version": 3
   },
   "file_extension": ".py",
   "mimetype": "text/x-python",
   "name": "python",
   "nbconvert_exporter": "python",
   "pygments_lexer": "ipython3",
   "version": "3.12.3"
  },
  "orig_nbformat": 4
 },
 "nbformat": 4,
 "nbformat_minor": 2
}
