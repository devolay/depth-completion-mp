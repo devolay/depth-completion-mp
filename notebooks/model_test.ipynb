{
 "cells": [
  {
   "cell_type": "code",
   "execution_count": 7,
   "metadata": {},
   "outputs": [],
   "source": [
    "import os\n",
    "from pathlib import Path\n",
    "from src.models.training.train_model import train_model\n",
    "from src.models.training.config import TrainingConfig\n",
    "\n",
    "processed_path = str(Path(os.path.abspath('')).resolve().parents[0] / \"data\" / \"processed\")"
   ]
  },
  {
   "cell_type": "code",
   "execution_count": 8,
   "metadata": {},
   "outputs": [
    {
     "name": "stderr",
     "output_type": "stream",
     "text": [
      "GPU available: True (mps), used: True\n",
      "TPU available: False, using: 0 TPU cores\n",
      "IPU available: False, using: 0 IPUs\n",
      "HPU available: False, using: 0 HPUs\n",
      "\n",
      "  | Name  | Type            | Params\n",
      "------------------------------------------\n",
      "0 | model | uncertainty_net | 2.5 M \n",
      "1 | loss  | MSE_loss        | 0     \n",
      "------------------------------------------\n",
      "2.5 M     Trainable params\n",
      "0         Non-trainable params\n",
      "2.5 M     Total params\n",
      "10.181    Total estimated model params size (MB)\n"
     ]
    },
    {
     "name": "stdout",
     "output_type": "stream",
     "text": [
      "Sanity Checking DataLoader 0:   0%|          | 0/2 [00:00<?, ?it/s]> /Users/dawid/Private/School/Sem 1/Machine Perception/Project/depth-completion-mp/src/models/model.py(69)forward()\n",
      "     67         lidar_to_conf, conf = torch.chunk(self.softmax(torch.cat((lidar_to_conf, conf), 1)), 2, dim=1)\n",
      "     68         out = conf * precise_depth + lidar_to_conf * lidar_to_depth\n",
      "---> 69 \n",
      "     70         return out, lidar_out, precise_depth, global_features\n",
      "     71 \n",
      "\n",
      "> /Users/dawid/Private/School/Sem 1/Machine Perception/Project/depth-completion-mp/src/models/model.py(71)forward()\n",
      "     69 \n",
      "     70         return out, lidar_out, precise_depth, global_features\n",
      "---> 71 \n",
      "     72 \n",
      "     73 def convbn(in_planes, out_planes, kernel_size, stride, pad, dilation):\n",
      "\n",
      "torch.Size([32, 2, 128, 512])\n",
      "torch.Size([32, 1, 128, 512])\n",
      "torch.Size([32, 1, 128, 512])\n",
      "tensor(3.6207, device='mps:0')\n",
      "tensor(1.2977, device='mps:0')\n"
     ]
    }
   ],
   "source": [
    "config = TrainingConfig(\n",
    "    output_path=str(Path(os.path.abspath('')).resolve().parents[0] / \"models\" / \"trainings\"),\n",
    "    epochs=50,\n",
    "    batch_size=32,\n",
    "    dataset_path=processed_path,\n",
    "    learning_rate=1e-3\n",
    ")\n",
    "\n",
    "train_model(config)"
   ]
  },
  {
   "cell_type": "code",
   "execution_count": null,
   "metadata": {},
   "outputs": [],
   "source": []
  }
 ],
 "metadata": {
  "kernelspec": {
   "display_name": "depth-completion-mp",
   "language": "python",
   "name": "python3"
  },
  "language_info": {
   "codemirror_mode": {
    "name": "ipython",
    "version": 3
   },
   "file_extension": ".py",
   "mimetype": "text/x-python",
   "name": "python",
   "nbconvert_exporter": "python",
   "pygments_lexer": "ipython3",
   "version": "3.12.3"
  },
  "orig_nbformat": 4
 },
 "nbformat": 4,
 "nbformat_minor": 2
}
